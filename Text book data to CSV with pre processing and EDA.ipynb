{
 "cells": [
  {
   "cell_type": "markdown",
   "id": "9d3ac607",
   "metadata": {},
   "source": [
    "# This is the template for the report to submit for the Assignment in ITNPBD2 Autumn 2022\n",
    "\n",
    "## Follow these instructions:\n",
    "- Save this file in the form: __ZZZZZZZ_ITNPBD2_Autumn22_TheAssignment.ipynb__ where __ZZZZZZZ__ is your student number\n",
    "- Fill in the report \n",
    " * Use a mix of code and markdown cells to tell a story, only the *Executive Summary* should be contained in a single markdown cell\n",
    " * all other sections should have more than one (1) cells and outputs, where you explain what you are doing and why.\n",
    "- When you are finished then ...\n",
    " * Save the file\n",
    " * Restart the Kernel and re-run the whole notebook. \"Kernel\" -> \"Restart & Run\" in the menu at top\n",
    " * Make sure everything has executed as expected. If cells run with error that you want to keep to show your attempt, then manually run every cell below the buggy one to show the output.\n",
    " * Make sure no __Markdown__ cell is in *edit* mode\n",
    " * Save file again\n",
    " * __Download this notebook as HTML__, you do that under *File->Download as-> HTML*\n",
    "   + make sure to use the same name format, just different extension\n",
    " * __Upload the html file__ to the assessment on Canvas and submit"
   ]
  },
  {
   "cell_type": "markdown",
   "id": "5b8f55e6",
   "metadata": {},
   "source": [
    "## Executive Summary\n",
    "Write a short (200 words max) summary of what the report contains and what you have discovered."
   ]
  },
  {
   "cell_type": "markdown",
   "id": "bbe29de2",
   "metadata": {},
   "source": [
    "## Data Cleaning and Preparations\n",
    "In this section you should demonstrate how you have programmatically loaded the dataset (or those parts of it you intend to use) into memory, and cleaned and prepared it.\n",
    "Explain the steps you take."
   ]
  },
  {
   "cell_type": "code",
   "execution_count": null,
   "id": "dbbb387b",
   "metadata": {},
   "outputs": [],
   "source": [
    "import os\n",
    "\n",
    "folderPath = r\"D:\\Python\\Assignment\\dataset\" # Path to the folder with your files\n",
    "text_files = [] # List of the files you want to use\n",
    "def myFilesAddEmptyLine(): # Function to add an empty line after each line in the file\n",
    "    for file in os.listdir(folderPath): # Loop through the files in the folder\n",
    "        if file.endswith(\".txt\"): # Check if the file is a text file\n",
    "            text_files.append(file) # Add the file to the list\n",
    "    return text_files # Return the list of text files\n",
    "text_files = myFilesAddEmptyLine()  # Call the function\n",
    "print(text_files)  # Print the list of text files"
   ]
  },
  {
   "cell_type": "code",
   "execution_count": 2,
   "id": "adf5e65f",
   "metadata": {},
   "outputs": [],
   "source": [
    "import glob # Import the glob module\n",
    "import re  # Import the re module\n",
    "import pandas as pd # Import the pandas module as pd if want to install pandas use pip install pandas\n",
    "import matplotlib.pyplot as plt    # Import the matplotlib.pyplot module as plt if want to install matplotlib.pyplot use pip install matplotlib\n",
    "import seaborn as sns # Import the seaborn module as sns if want to install seaborn use pip install seaborn\n",
    "import numpy as np \n",
    "from sklearn import linear_model # Import the linear_model module from sklearn\n",
    "lm = linear_model.LinearRegression() # Create a linear regression object\n",
    "files = glob.glob(r'D:\\Python\\Assignment\\dataset\\*.txt') # Path to the folder with your files"
   ]
  },
  {
   "cell_type": "code",
   "execution_count": 3,
   "id": "a864bc0a",
   "metadata": {},
   "outputs": [],
   "source": [
    "#initilizing lists\n",
    "title = []\n",
    "author = []\n",
    "release_date = []\n",
    "last_updated = []\n",
    "language = []\n",
    "ebook = []\n",
    "character_set_encoding = []\n",
    "chapter_count = []\n",
    "section_count = []\n",
    "lines_count = []\n",
    "total_number_of_words = []\n",
    "\n",
    "#creating dictionary\n",
    "books = {'title':title, 'author':author, 'release_date':release_date, 'last_updated':last_updated, 'language':language, 'ebook':ebook, 'character_set_encoding':character_set_encoding, 'chapter_count':chapter_count, 'section_count':section_count, 'lines_count':lines_count, 'number_of_words':total_number_of_words}\n",
    "i = 0\n",
    "#reading files\n",
    "for file in files:\n",
    "    with open(file) as s:\n",
    "        lines = len(s.readlines())\n",
    "        lines_count.append(lines)\n",
    "\n",
    "    number_of_words = 0\n",
    " \n",
    "    #read number of words in file\n",
    "    with open(file) as m:\n",
    "        data = m.read()\n",
    "        lines = data.split()\n",
    "        number_of_words += len(lines)\n",
    "        total_number_of_words.append(number_of_words)\n",
    "\n",
    "    #read other attributes\n",
    "    with open(file) as f:\n",
    "        data = f.read()\n",
    "\n",
    "        #searching for title\n",
    "        title_match = re.search(r\"Title: (.*)\", data)\n",
    "        if title_match is None: #if title is not found\n",
    "            title.append(None) #append None\n",
    "        else: #if title is found\n",
    "            title.append(title_match.group(1))#append title\n",
    "\n",
    "        #searching for author\n",
    "        author_match = re.search(r\"Author: (.*)\", data)\n",
    "        if author_match is None:\n",
    "            author.append('Anonmous')\n",
    "        else:\n",
    "            author.append(author_match.group(1))\n",
    "        \n",
    "        #searching for release date\n",
    "        release_date_match = re.search(r\"Release Date: (.\\w+ \\d+, \\d+)\", data)\n",
    "        if release_date_match is None:\n",
    "            release_date.append(None)\n",
    "        else:\n",
    "            release_date.append(release_date_match.group(1))\n",
    "\n",
    "        #searching for last updated date\n",
    "        last_updated_match = re.search(r\"\\[Date last updated: (.*)\\]\", data)\n",
    "        if last_updated_match is None:\n",
    "            last_updated.append(release_date_match.group(1))\n",
    "        else:\n",
    "            last_updated.append(last_updated_match.group(1))\n",
    "\n",
    "        #searching for language\n",
    "        language_match = re.search(r\"Language: (.*)\", data)\n",
    "        if language_match is None:\n",
    "            language.append(None)\n",
    "        else:\n",
    "            language.append(language_match.group(1))\n",
    "\n",
    "        #searching for ebook number\n",
    "        ebook_match = re.search(r\"EBook #(.\\d*)\", data)\n",
    "        if ebook_match is None:\n",
    "            ebook.append(text_files[i][0:5])\n",
    "        else:\n",
    "            ebook.append(ebook_match.group(1))\n",
    "        \n",
    "        #searching for character set encoding\n",
    "        character_set_encoding_match = re.search(r\"Character set encoding: (.*)\", data)\n",
    "        if character_set_encoding_match is None: #if character set encoding is not found\n",
    "            character_set_encoding.append('ASCII')#append ASCII if value is not found\n",
    "        else: #if character set encoding is found\n",
    "            character_set_encoding.append(character_set_encoding_match.group(1))#append character set encoding\n",
    "        \n",
    "        #searching for chapter count\n",
    "        chapter_count_match = re.findall(r\"CHAPTER\", data)\n",
    "        if chapter_count_match is None:\n",
    "            chapter_count.append(None)\n",
    "        else:\n",
    "            chapter_count.append(len(chapter_count_match))\n",
    "        \n",
    "        #searching for section count\n",
    "        section_count_match = re.findall(r\"\\bSection \\d+\\.\", data)\n",
    "        num_sections = len(section_count_match)#number of sections\n",
    "        if num_sections is None:\n",
    "            section_count.append(None)\n",
    "        else:\n",
    "            section_count.append(len(section_count_match))\n",
    "    i+= 1        "
   ]
  },
  {
   "cell_type": "code",
   "execution_count": 4,
   "id": "a6b4fdd1",
   "metadata": {},
   "outputs": [],
   "source": [
    "#creating dataframe\n",
    "df = pd.DataFrame(books)\n",
    "#converting release date and last updated to datetime\n",
    "df.release_date\n",
    "df['publish_year'] = pd.DatetimeIndex(df['release_date']).year #creating publish year column"
   ]
  },
  {
   "cell_type": "code",
   "execution_count": 5,
   "id": "019c8da0",
   "metadata": {},
   "outputs": [
    {
     "data": {
      "text/html": [
       "<div>\n",
       "<style scoped>\n",
       "    .dataframe tbody tr th:only-of-type {\n",
       "        vertical-align: middle;\n",
       "    }\n",
       "\n",
       "    .dataframe tbody tr th {\n",
       "        vertical-align: top;\n",
       "    }\n",
       "\n",
       "    .dataframe thead th {\n",
       "        text-align: right;\n",
       "    }\n",
       "</style>\n",
       "<table border=\"1\" class=\"dataframe\">\n",
       "  <thead>\n",
       "    <tr style=\"text-align: right;\">\n",
       "      <th></th>\n",
       "      <th>title</th>\n",
       "      <th>author</th>\n",
       "      <th>release_date</th>\n",
       "      <th>last_updated</th>\n",
       "      <th>language</th>\n",
       "      <th>ebook</th>\n",
       "      <th>character_set_encoding</th>\n",
       "      <th>chapter_count</th>\n",
       "      <th>section_count</th>\n",
       "      <th>lines_count</th>\n",
       "      <th>number_of_words</th>\n",
       "      <th>publish_year</th>\n",
       "    </tr>\n",
       "  </thead>\n",
       "  <tbody>\n",
       "    <tr>\n",
       "      <th>0</th>\n",
       "      <td>Apocolocyntosis</td>\n",
       "      <td>Lucius Seneca</td>\n",
       "      <td>November 10, 2003</td>\n",
       "      <td>April 9, 2005</td>\n",
       "      <td>English</td>\n",
       "      <td>10001</td>\n",
       "      <td>ASCII</td>\n",
       "      <td>0</td>\n",
       "      <td>4</td>\n",
       "      <td>958</td>\n",
       "      <td>8807</td>\n",
       "      <td>2003</td>\n",
       "    </tr>\n",
       "    <tr>\n",
       "      <th>1</th>\n",
       "      <td>The House on the Borderland</td>\n",
       "      <td>William Hope Hodgson</td>\n",
       "      <td>November 10, 2003</td>\n",
       "      <td>November 10, 2003</td>\n",
       "      <td>English</td>\n",
       "      <td>10002</td>\n",
       "      <td>ASCII</td>\n",
       "      <td>0</td>\n",
       "      <td>4</td>\n",
       "      <td>5690</td>\n",
       "      <td>54201</td>\n",
       "      <td>2003</td>\n",
       "    </tr>\n",
       "    <tr>\n",
       "      <th>2</th>\n",
       "      <td>My First Years As A Frenchwoman, 1876-1879</td>\n",
       "      <td>Mary King Waddington</td>\n",
       "      <td>November 10, 2003</td>\n",
       "      <td>November 10, 2003</td>\n",
       "      <td>English</td>\n",
       "      <td>10003</td>\n",
       "      <td>ASCII</td>\n",
       "      <td>0</td>\n",
       "      <td>4</td>\n",
       "      <td>6327</td>\n",
       "      <td>64594</td>\n",
       "      <td>2003</td>\n",
       "    </tr>\n",
       "    <tr>\n",
       "      <th>3</th>\n",
       "      <td>The Warriors</td>\n",
       "      <td>Lindsay, Anna Robertson Brown</td>\n",
       "      <td>November 10, 2003</td>\n",
       "      <td>November 10, 2003</td>\n",
       "      <td>English</td>\n",
       "      <td>10004</td>\n",
       "      <td>ASCII</td>\n",
       "      <td>0</td>\n",
       "      <td>4</td>\n",
       "      <td>5361</td>\n",
       "      <td>51300</td>\n",
       "      <td>2003</td>\n",
       "    </tr>\n",
       "    <tr>\n",
       "      <th>4</th>\n",
       "      <td>A Voyage to the Moon</td>\n",
       "      <td>George Tucker</td>\n",
       "      <td>November 7, 2003</td>\n",
       "      <td>November 7, 2003</td>\n",
       "      <td>English</td>\n",
       "      <td>10005</td>\n",
       "      <td>ASCII</td>\n",
       "      <td>34</td>\n",
       "      <td>4</td>\n",
       "      <td>7313</td>\n",
       "      <td>73656</td>\n",
       "      <td>2003</td>\n",
       "    </tr>\n",
       "  </tbody>\n",
       "</table>\n",
       "</div>"
      ],
      "text/plain": [
       "                                        title                         author  \\\n",
       "0                             Apocolocyntosis                  Lucius Seneca   \n",
       "1                 The House on the Borderland           William Hope Hodgson   \n",
       "2  My First Years As A Frenchwoman, 1876-1879           Mary King Waddington   \n",
       "3                                The Warriors  Lindsay, Anna Robertson Brown   \n",
       "4                        A Voyage to the Moon                  George Tucker   \n",
       "\n",
       "        release_date       last_updated language  ebook  \\\n",
       "0  November 10, 2003      April 9, 2005  English  10001   \n",
       "1  November 10, 2003  November 10, 2003  English  10002   \n",
       "2  November 10, 2003  November 10, 2003  English  10003   \n",
       "3  November 10, 2003  November 10, 2003  English  10004   \n",
       "4   November 7, 2003   November 7, 2003  English  10005   \n",
       "\n",
       "  character_set_encoding  chapter_count  section_count  lines_count  \\\n",
       "0                  ASCII              0              4          958   \n",
       "1                  ASCII              0              4         5690   \n",
       "2                  ASCII              0              4         6327   \n",
       "3                  ASCII              0              4         5361   \n",
       "4                  ASCII             34              4         7313   \n",
       "\n",
       "   number_of_words  publish_year  \n",
       "0             8807          2003  \n",
       "1            54201          2003  \n",
       "2            64594          2003  \n",
       "3            51300          2003  \n",
       "4            73656          2003  "
      ]
     },
     "execution_count": 5,
     "metadata": {},
     "output_type": "execute_result"
    }
   ],
   "source": [
    "df.head() #displaying first 5 rows"
   ]
  },
  {
   "cell_type": "code",
   "execution_count": 6,
   "id": "d0f4f4af",
   "metadata": {},
   "outputs": [
    {
     "data": {
      "text/html": [
       "<div>\n",
       "<style scoped>\n",
       "    .dataframe tbody tr th:only-of-type {\n",
       "        vertical-align: middle;\n",
       "    }\n",
       "\n",
       "    .dataframe tbody tr th {\n",
       "        vertical-align: top;\n",
       "    }\n",
       "\n",
       "    .dataframe thead th {\n",
       "        text-align: right;\n",
       "    }\n",
       "</style>\n",
       "<table border=\"1\" class=\"dataframe\">\n",
       "  <thead>\n",
       "    <tr style=\"text-align: right;\">\n",
       "      <th></th>\n",
       "      <th>title</th>\n",
       "      <th>author</th>\n",
       "      <th>release_date</th>\n",
       "      <th>last_updated</th>\n",
       "      <th>language</th>\n",
       "      <th>ebook</th>\n",
       "      <th>character_set_encoding</th>\n",
       "      <th>chapter_count</th>\n",
       "      <th>section_count</th>\n",
       "      <th>lines_count</th>\n",
       "      <th>number_of_words</th>\n",
       "      <th>publish_year</th>\n",
       "    </tr>\n",
       "  </thead>\n",
       "  <tbody>\n",
       "    <tr>\n",
       "      <th>1171</th>\n",
       "      <td>Two Thousand Miles On An Automobile</td>\n",
       "      <td>Arthur Jerome Eddy</td>\n",
       "      <td>May 18, 2004</td>\n",
       "      <td>May 18, 2004</td>\n",
       "      <td>English</td>\n",
       "      <td>12380</td>\n",
       "      <td>ASCII</td>\n",
       "      <td>19</td>\n",
       "      <td>4</td>\n",
       "      <td>9379</td>\n",
       "      <td>82181</td>\n",
       "      <td>2004</td>\n",
       "    </tr>\n",
       "    <tr>\n",
       "      <th>1172</th>\n",
       "      <td>The Auchensaugh Renovation of the National Cov...</td>\n",
       "      <td>The Reformed Presbytery</td>\n",
       "      <td>May 19, 2004</td>\n",
       "      <td>May 19, 2004</td>\n",
       "      <td>English</td>\n",
       "      <td>12381</td>\n",
       "      <td>ASCII</td>\n",
       "      <td>0</td>\n",
       "      <td>4</td>\n",
       "      <td>5456</td>\n",
       "      <td>56619</td>\n",
       "      <td>2004</td>\n",
       "    </tr>\n",
       "    <tr>\n",
       "      <th>1173</th>\n",
       "      <td>The Poetical Works of William Wordsworth, Vol....</td>\n",
       "      <td>William Wordsworth</td>\n",
       "      <td>May 19, 2004</td>\n",
       "      <td>May 19, 2004</td>\n",
       "      <td>English</td>\n",
       "      <td>12383</td>\n",
       "      <td>ASCII</td>\n",
       "      <td>0</td>\n",
       "      <td>4</td>\n",
       "      <td>20247</td>\n",
       "      <td>126872</td>\n",
       "      <td>2004</td>\n",
       "    </tr>\n",
       "    <tr>\n",
       "      <th>1174</th>\n",
       "      <td>The Italians</td>\n",
       "      <td>Frances Elliot</td>\n",
       "      <td>May 19, 2004</td>\n",
       "      <td>May 19, 2004</td>\n",
       "      <td>English</td>\n",
       "      <td>12385</td>\n",
       "      <td>US-ASCII</td>\n",
       "      <td>39</td>\n",
       "      <td>4</td>\n",
       "      <td>14015</td>\n",
       "      <td>119266</td>\n",
       "      <td>2004</td>\n",
       "    </tr>\n",
       "    <tr>\n",
       "      <th>1175</th>\n",
       "      <td>Samantha at the St. Louis Exposition</td>\n",
       "      <td>Marietta Holley</td>\n",
       "      <td>May 19, 2004</td>\n",
       "      <td>May 19, 2004</td>\n",
       "      <td>English</td>\n",
       "      <td>12386</td>\n",
       "      <td>US-ASCII</td>\n",
       "      <td>16</td>\n",
       "      <td>4</td>\n",
       "      <td>7972</td>\n",
       "      <td>76744</td>\n",
       "      <td>2004</td>\n",
       "    </tr>\n",
       "  </tbody>\n",
       "</table>\n",
       "</div>"
      ],
      "text/plain": [
       "                                                  title  \\\n",
       "1171                Two Thousand Miles On An Automobile   \n",
       "1172  The Auchensaugh Renovation of the National Cov...   \n",
       "1173  The Poetical Works of William Wordsworth, Vol....   \n",
       "1174                                       The Italians   \n",
       "1175               Samantha at the St. Louis Exposition   \n",
       "\n",
       "                       author  release_date  last_updated language  ebook  \\\n",
       "1171       Arthur Jerome Eddy  May 18, 2004  May 18, 2004  English  12380   \n",
       "1172  The Reformed Presbytery  May 19, 2004  May 19, 2004  English  12381   \n",
       "1173       William Wordsworth  May 19, 2004  May 19, 2004  English  12383   \n",
       "1174           Frances Elliot  May 19, 2004  May 19, 2004  English  12385   \n",
       "1175          Marietta Holley  May 19, 2004  May 19, 2004  English  12386   \n",
       "\n",
       "     character_set_encoding  chapter_count  section_count  lines_count  \\\n",
       "1171                  ASCII             19              4         9379   \n",
       "1172                  ASCII              0              4         5456   \n",
       "1173                  ASCII              0              4        20247   \n",
       "1174               US-ASCII             39              4        14015   \n",
       "1175               US-ASCII             16              4         7972   \n",
       "\n",
       "      number_of_words  publish_year  \n",
       "1171            82181          2004  \n",
       "1172            56619          2004  \n",
       "1173           126872          2004  \n",
       "1174           119266          2004  \n",
       "1175            76744          2004  "
      ]
     },
     "execution_count": 6,
     "metadata": {},
     "output_type": "execute_result"
    }
   ],
   "source": [
    "df.tail() #displaying last 5 rows"
   ]
  },
  {
   "cell_type": "code",
   "execution_count": 7,
   "id": "ad43562c",
   "metadata": {},
   "outputs": [],
   "source": [
    "df.to_csv('books.csv', index=False) #saving dataframe to csv file"
   ]
  },
  {
   "cell_type": "code",
   "execution_count": 8,
   "id": "4c509641",
   "metadata": {},
   "outputs": [],
   "source": [
    "df = pd.read_csv('books.csv', index_col=False) #reading csv file"
   ]
  },
  {
   "cell_type": "markdown",
   "id": "81617a91",
   "metadata": {},
   "source": [
    "## Exploratory Data Analysis\n",
    "Programmatically explore the dataset. Tell the reader, how the dataset looks like and at least three most interesting observations that you can learn from the data. Propose at least three (3) questions to ask with the dataset."
   ]
  },
  {
   "cell_type": "code",
   "execution_count": 9,
   "id": "8e1f69ac",
   "metadata": {},
   "outputs": [
    {
     "name": "stdout",
     "output_type": "stream",
     "text": [
      "<class 'pandas.core.frame.DataFrame'>\n",
      "RangeIndex: 1176 entries, 0 to 1175\n",
      "Data columns (total 12 columns):\n",
      " #   Column                  Non-Null Count  Dtype \n",
      "---  ------                  --------------  ----- \n",
      " 0   title                   1176 non-null   object\n",
      " 1   author                  1176 non-null   object\n",
      " 2   release_date            1176 non-null   object\n",
      " 3   last_updated            1176 non-null   object\n",
      " 4   language                1176 non-null   object\n",
      " 5   ebook                   1176 non-null   int64 \n",
      " 6   character_set_encoding  1176 non-null   object\n",
      " 7   chapter_count           1176 non-null   int64 \n",
      " 8   section_count           1176 non-null   int64 \n",
      " 9   lines_count             1176 non-null   int64 \n",
      " 10  number_of_words         1176 non-null   int64 \n",
      " 11  publish_year            1176 non-null   int64 \n",
      "dtypes: int64(6), object(6)\n",
      "memory usage: 110.4+ KB\n"
     ]
    }
   ],
   "source": [
    "df.info() #displaying information about dataframe"
   ]
  },
  {
   "cell_type": "code",
   "execution_count": 10,
   "id": "e5f31735",
   "metadata": {},
   "outputs": [
    {
     "data": {
      "text/html": [
       "<div>\n",
       "<style scoped>\n",
       "    .dataframe tbody tr th:only-of-type {\n",
       "        vertical-align: middle;\n",
       "    }\n",
       "\n",
       "    .dataframe tbody tr th {\n",
       "        vertical-align: top;\n",
       "    }\n",
       "\n",
       "    .dataframe thead th {\n",
       "        text-align: right;\n",
       "    }\n",
       "</style>\n",
       "<table border=\"1\" class=\"dataframe\">\n",
       "  <thead>\n",
       "    <tr style=\"text-align: right;\">\n",
       "      <th></th>\n",
       "      <th>ebook</th>\n",
       "      <th>chapter_count</th>\n",
       "      <th>section_count</th>\n",
       "      <th>lines_count</th>\n",
       "      <th>number_of_words</th>\n",
       "      <th>publish_year</th>\n",
       "    </tr>\n",
       "  </thead>\n",
       "  <tbody>\n",
       "    <tr>\n",
       "      <th>count</th>\n",
       "      <td>1176.000000</td>\n",
       "      <td>1176.000000</td>\n",
       "      <td>1176.000000</td>\n",
       "      <td>1176.000000</td>\n",
       "      <td>1176.000000</td>\n",
       "      <td>1176.000000</td>\n",
       "    </tr>\n",
       "    <tr>\n",
       "      <th>mean</th>\n",
       "      <td>10823.529762</td>\n",
       "      <td>8.573980</td>\n",
       "      <td>4.139456</td>\n",
       "      <td>6984.573980</td>\n",
       "      <td>61347.671769</td>\n",
       "      <td>2003.729592</td>\n",
       "    </tr>\n",
       "    <tr>\n",
       "      <th>std</th>\n",
       "      <td>459.490794</td>\n",
       "      <td>15.396036</td>\n",
       "      <td>2.895797</td>\n",
       "      <td>6635.326361</td>\n",
       "      <td>60601.823971</td>\n",
       "      <td>0.618860</td>\n",
       "    </tr>\n",
       "    <tr>\n",
       "      <th>min</th>\n",
       "      <td>10001.000000</td>\n",
       "      <td>0.000000</td>\n",
       "      <td>4.000000</td>\n",
       "      <td>440.000000</td>\n",
       "      <td>3343.000000</td>\n",
       "      <td>2003.000000</td>\n",
       "    </tr>\n",
       "    <tr>\n",
       "      <th>25%</th>\n",
       "      <td>10476.750000</td>\n",
       "      <td>0.000000</td>\n",
       "      <td>4.000000</td>\n",
       "      <td>2297.500000</td>\n",
       "      <td>17147.750000</td>\n",
       "      <td>2003.000000</td>\n",
       "    </tr>\n",
       "    <tr>\n",
       "      <th>50%</th>\n",
       "      <td>10837.500000</td>\n",
       "      <td>0.000000</td>\n",
       "      <td>4.000000</td>\n",
       "      <td>5613.500000</td>\n",
       "      <td>48178.500000</td>\n",
       "      <td>2004.000000</td>\n",
       "    </tr>\n",
       "    <tr>\n",
       "      <th>75%</th>\n",
       "      <td>11181.250000</td>\n",
       "      <td>14.000000</td>\n",
       "      <td>4.000000</td>\n",
       "      <td>9497.000000</td>\n",
       "      <td>87069.500000</td>\n",
       "      <td>2004.000000</td>\n",
       "    </tr>\n",
       "    <tr>\n",
       "      <th>max</th>\n",
       "      <td>12386.000000</td>\n",
       "      <td>144.000000</td>\n",
       "      <td>84.000000</td>\n",
       "      <td>103540.000000</td>\n",
       "      <td>984066.000000</td>\n",
       "      <td>2013.000000</td>\n",
       "    </tr>\n",
       "  </tbody>\n",
       "</table>\n",
       "</div>"
      ],
      "text/plain": [
       "              ebook  chapter_count  section_count    lines_count  \\\n",
       "count   1176.000000    1176.000000    1176.000000    1176.000000   \n",
       "mean   10823.529762       8.573980       4.139456    6984.573980   \n",
       "std      459.490794      15.396036       2.895797    6635.326361   \n",
       "min    10001.000000       0.000000       4.000000     440.000000   \n",
       "25%    10476.750000       0.000000       4.000000    2297.500000   \n",
       "50%    10837.500000       0.000000       4.000000    5613.500000   \n",
       "75%    11181.250000      14.000000       4.000000    9497.000000   \n",
       "max    12386.000000     144.000000      84.000000  103540.000000   \n",
       "\n",
       "       number_of_words  publish_year  \n",
       "count      1176.000000   1176.000000  \n",
       "mean      61347.671769   2003.729592  \n",
       "std       60601.823971      0.618860  \n",
       "min        3343.000000   2003.000000  \n",
       "25%       17147.750000   2003.000000  \n",
       "50%       48178.500000   2004.000000  \n",
       "75%       87069.500000   2004.000000  \n",
       "max      984066.000000   2013.000000  "
      ]
     },
     "execution_count": 10,
     "metadata": {},
     "output_type": "execute_result"
    }
   ],
   "source": [
    "df.describe() #displaying summary statistics"
   ]
  },
  {
   "cell_type": "code",
   "execution_count": 11,
   "id": "2c5dab42",
   "metadata": {},
   "outputs": [
    {
     "data": {
      "text/plain": [
       "title                     0\n",
       "author                    0\n",
       "release_date              0\n",
       "last_updated              0\n",
       "language                  0\n",
       "ebook                     0\n",
       "character_set_encoding    0\n",
       "chapter_count             0\n",
       "section_count             0\n",
       "lines_count               0\n",
       "number_of_words           0\n",
       "publish_year              0\n",
       "dtype: int64"
      ]
     },
     "execution_count": 11,
     "metadata": {},
     "output_type": "execute_result"
    }
   ],
   "source": [
    "df.isna().sum() #displaying number of missing values"
   ]
  },
  {
   "cell_type": "code",
   "execution_count": 12,
   "id": "c814a700",
   "metadata": {},
   "outputs": [
    {
     "data": {
      "text/html": [
       "<div>\n",
       "<style scoped>\n",
       "    .dataframe tbody tr th:only-of-type {\n",
       "        vertical-align: middle;\n",
       "    }\n",
       "\n",
       "    .dataframe tbody tr th {\n",
       "        vertical-align: top;\n",
       "    }\n",
       "\n",
       "    .dataframe thead th {\n",
       "        text-align: right;\n",
       "    }\n",
       "</style>\n",
       "<table border=\"1\" class=\"dataframe\">\n",
       "  <thead>\n",
       "    <tr style=\"text-align: right;\">\n",
       "      <th></th>\n",
       "      <th>0</th>\n",
       "    </tr>\n",
       "    <tr>\n",
       "      <th>author</th>\n",
       "      <th></th>\n",
       "    </tr>\n",
       "  </thead>\n",
       "  <tbody>\n",
       "    <tr>\n",
       "      <th>Various</th>\n",
       "      <td>200</td>\n",
       "    </tr>\n",
       "    <tr>\n",
       "      <th>W.W. Jacobs</th>\n",
       "      <td>52</td>\n",
       "    </tr>\n",
       "    <tr>\n",
       "      <th>Roger McGuinn</th>\n",
       "      <td>30</td>\n",
       "    </tr>\n",
       "    <tr>\n",
       "      <th>Anonymous</th>\n",
       "      <td>30</td>\n",
       "    </tr>\n",
       "    <tr>\n",
       "      <th>John Lord</th>\n",
       "      <td>14</td>\n",
       "    </tr>\n",
       "    <tr>\n",
       "      <th>...</th>\n",
       "      <td>...</td>\n",
       "    </tr>\n",
       "    <tr>\n",
       "      <th>George Biddell Airy</th>\n",
       "      <td>1</td>\n",
       "    </tr>\n",
       "    <tr>\n",
       "      <th>George Eliot</th>\n",
       "      <td>1</td>\n",
       "    </tr>\n",
       "    <tr>\n",
       "      <th>George Frisbie Whicher</th>\n",
       "      <td>1</td>\n",
       "    </tr>\n",
       "    <tr>\n",
       "      <th>George H. Heffner</th>\n",
       "      <td>1</td>\n",
       "    </tr>\n",
       "    <tr>\n",
       "      <th>various</th>\n",
       "      <td>1</td>\n",
       "    </tr>\n",
       "  </tbody>\n",
       "</table>\n",
       "<p>675 rows × 1 columns</p>\n",
       "</div>"
      ],
      "text/plain": [
       "                          0\n",
       "author                     \n",
       "Various                 200\n",
       "W.W. Jacobs              52\n",
       "Roger McGuinn            30\n",
       "Anonymous                30\n",
       "John Lord                14\n",
       "...                     ...\n",
       "George Biddell Airy       1\n",
       "George Eliot              1\n",
       "George Frisbie Whicher    1\n",
       "George H. Heffner         1\n",
       "various                   1\n",
       "\n",
       "[675 rows x 1 columns]"
      ]
     },
     "execution_count": 12,
     "metadata": {},
     "output_type": "execute_result"
    }
   ],
   "source": [
    "df[['author']].value_counts().to_frame() #displaying number of books per author"
   ]
  },
  {
   "cell_type": "code",
   "execution_count": 13,
   "id": "d0a75091",
   "metadata": {},
   "outputs": [
    {
     "data": {
      "text/plain": [
       "array(['ASCII', 'US-ASCII', 'ISO Latin-1', 'ISO-8859-1',\n",
       "       'US-ASCII, MIDI, Lilypond, MP3 and TeX', 'UTF-8'], dtype=object)"
      ]
     },
     "execution_count": 13,
     "metadata": {},
     "output_type": "execute_result"
    }
   ],
   "source": [
    "df['character_set_encoding'].unique() #displaying unique character set encodings"
   ]
  },
  {
   "cell_type": "code",
   "execution_count": 14,
   "id": "424ef641",
   "metadata": {},
   "outputs": [
    {
     "data": {
      "text/html": [
       "<div>\n",
       "<style scoped>\n",
       "    .dataframe tbody tr th:only-of-type {\n",
       "        vertical-align: middle;\n",
       "    }\n",
       "\n",
       "    .dataframe tbody tr th {\n",
       "        vertical-align: top;\n",
       "    }\n",
       "\n",
       "    .dataframe thead th {\n",
       "        text-align: right;\n",
       "    }\n",
       "</style>\n",
       "<table border=\"1\" class=\"dataframe\">\n",
       "  <thead>\n",
       "    <tr style=\"text-align: right;\">\n",
       "      <th></th>\n",
       "      <th>0</th>\n",
       "    </tr>\n",
       "    <tr>\n",
       "      <th>character_set_encoding</th>\n",
       "      <th></th>\n",
       "    </tr>\n",
       "  </thead>\n",
       "  <tbody>\n",
       "    <tr>\n",
       "      <th>ASCII</th>\n",
       "      <td>852</td>\n",
       "    </tr>\n",
       "    <tr>\n",
       "      <th>US-ASCII</th>\n",
       "      <td>315</td>\n",
       "    </tr>\n",
       "    <tr>\n",
       "      <th>ISO Latin-1</th>\n",
       "      <td>5</td>\n",
       "    </tr>\n",
       "    <tr>\n",
       "      <th>ISO-8859-1</th>\n",
       "      <td>2</td>\n",
       "    </tr>\n",
       "    <tr>\n",
       "      <th>US-ASCII, MIDI, Lilypond, MP3 and TeX</th>\n",
       "      <td>1</td>\n",
       "    </tr>\n",
       "    <tr>\n",
       "      <th>UTF-8</th>\n",
       "      <td>1</td>\n",
       "    </tr>\n",
       "  </tbody>\n",
       "</table>\n",
       "</div>"
      ],
      "text/plain": [
       "                                         0\n",
       "character_set_encoding                    \n",
       "ASCII                                  852\n",
       "US-ASCII                               315\n",
       "ISO Latin-1                              5\n",
       "ISO-8859-1                               2\n",
       "US-ASCII, MIDI, Lilypond, MP3 and TeX    1\n",
       "UTF-8                                    1"
      ]
     },
     "execution_count": 14,
     "metadata": {},
     "output_type": "execute_result"
    }
   ],
   "source": [
    "df[['character_set_encoding']].value_counts().to_frame() #displaying number of books per character set encoding"
   ]
  },
  {
   "cell_type": "code",
   "execution_count": 15,
   "id": "af07ad41",
   "metadata": {},
   "outputs": [
    {
     "data": {
      "text/plain": [
       "90"
      ]
     },
     "execution_count": 15,
     "metadata": {},
     "output_type": "execute_result"
    }
   ],
   "source": [
    "df['title'].duplicated().sum() #displaying number of duplicate titles"
   ]
  },
  {
   "cell_type": "markdown",
   "id": "3c72799e",
   "metadata": {},
   "source": [
    "## Descriptive Analytics\n",
    "Interogate the dataset with descriptive analytics. Answer the three (3) questions that you found interesting in the previous section using descriptive analytics. Make each question a subsection of this section and follow the steps: 1. the question, 2. justify why it is interesting 3. the answer."
   ]
  },
  {
   "cell_type": "code",
   "execution_count": 16,
   "id": "cd9d1767",
   "metadata": {},
   "outputs": [
    {
     "data": {
      "image/png": "[encoded data removed]",
      "text/plain": [
       "<Figure size 640x480 with 1 Axes>"
      ]
     },
     "metadata": {},
     "output_type": "display_data"
    }
   ],
   "source": [
    "sns.boxplot(y=df[\"ebook\"],x=df[\"publish_year\"]); #plotting boxplot of publish year vs ebook number\n",
    "plt.show()"
   ]
  },
  {
   "cell_type": "code",
   "execution_count": 17,
   "id": "bec472b4",
   "metadata": {},
   "outputs": [
    {
     "name": "stderr",
     "output_type": "stream",
     "text": [
      "C:\\Users\\Faisal\\AppData\\Local\\Temp\\ipykernel_16064\\425905036.py:2: FutureWarning: The default value of numeric_only in DataFrame.corr is deprecated. In a future version, it will default to False. Select only valid columns or specify the value of numeric_only to silence this warning.\n",
      "  sns.heatmap(df.corr(), annot=True)\n"
     ]
    },
    {
     "data": {
      "text/plain": [
       "<AxesSubplot: >"
      ]
     },
     "execution_count": 17,
     "metadata": {},
     "output_type": "execute_result"
    },
    {
     "data": {
      "image/png": "[encoded data removed]",
      "text/plain": [
       "<Figure size 1000x500 with 2 Axes>"
      ]
     },
     "metadata": {},
     "output_type": "display_data"
    }
   ],
   "source": [
    "plt.figure(figsize=(10,5)) #setting figure size\n",
    "sns.heatmap(df.corr(), annot=True) #plotting heatmap of correlation matrix"
   ]
  },
  {
   "cell_type": "code",
   "execution_count": 18,
   "id": "315b0e2a",
   "metadata": {},
   "outputs": [
    {
     "data": {
      "text/plain": [
       "<AxesSubplot: title={'center': 'which year book published most'}>"
      ]
     },
     "execution_count": 18,
     "metadata": {},
     "output_type": "execute_result"
    },
    {
     "data": {
      "image/png": "[encoded data removed]",
      "text/plain": [
       "<Figure size 640x480 with 1 Axes>"
      ]
     },
     "metadata": {},
     "output_type": "display_data"
    }
   ],
   "source": [
    "publi= pd.value_counts(df['publish_year']) #counting number of books published per year\n",
    "publi.plot.bar(title='which year book published most') #plotting bar chart of number of books published per year"
   ]
  },
  {
   "cell_type": "code",
   "execution_count": 19,
   "id": "5322867c",
   "metadata": {},
   "outputs": [
    {
     "data": {
      "text/plain": [
       "<AxesSubplot: title={'center': 'which author have more books'}>"
      ]
     },
     "execution_count": 19,
     "metadata": {},
     "output_type": "execute_result"
    },
    {
     "data": {
      "image/png": "[encoded data removed]",
      "text/plain": [
       "<Figure size 640x480 with 1 Axes>"
      ]
     },
     "metadata": {},
     "output_type": "display_data"
    }
   ],
   "source": [
    "publi= pd.value_counts(df['author']).head() #counting number of books per author\n",
    "publi.plot.bar(title='which author have more books')"
   ]
  },
  {
   "cell_type": "markdown",
   "id": "b2f5e429",
   "metadata": {},
   "source": [
    "## Suggestions\n",
    "Suggest further steps to enrich the dataset with additional (external) data, or apply some additional advanced modelling or analysis. You do not have to fully implement your suggestions, but you will have to explain and justify your suggestions."
   ]
  },
  {
   "cell_type": "code",
   "execution_count": null,
   "id": "c37582ff",
   "metadata": {},
   "outputs": [],
   "source": []
  },
  {
   "cell_type": "markdown",
   "id": "b37aa574",
   "metadata": {},
   "source": [
    "## Bibliography\n",
    "List all sources you have utilised in the making of this report here in this single markdown cell."
   ]
  }
 ],
 "metadata": {
  "kernelspec": {
   "display_name": "venv",
   "language": "python",
   "name": "python3"
  },
  "language_info": {
   "codemirror_mode": {
    "name": "ipython",
    "version": 3
   },
   "file_extension": ".py",
   "mimetype": "text/x-python",
   "name": "python",
   "nbconvert_exporter": "python",
   "pygments_lexer": "ipython3",
   "version": "3.10.7 (tags/v3.10.7:6cc6b13, Sep  5 2022, 14:08:36) [MSC v.1933 64 bit (AMD64)]"
  },
  "vscode": {
   "interpreter": {
    "hash": "f417fc31b95c664749d86b6deda8254c671989422538f892601d70f2712f2025"
   }
  }
 },
 "nbformat": 4,
 "nbformat_minor": 5
}
